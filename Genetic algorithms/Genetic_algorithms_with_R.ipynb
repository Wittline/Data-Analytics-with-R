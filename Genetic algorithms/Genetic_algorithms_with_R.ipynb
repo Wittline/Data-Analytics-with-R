{
  "nbformat": 4,
  "nbformat_minor": 0,
  "metadata": {
    "colab": {
      "name": "Genetic_algorithms_with_R.ipynb",
      "provenance": [],
      "collapsed_sections": []
    },
    "kernelspec": {
      "name": "ir",
      "display_name": "R"
    }
  },
  "cells": [
    {
      "cell_type": "markdown",
      "metadata": {
        "id": "AtxyCnlCcAi1",
        "colab_type": "text"
      },
      "source": [
        "# **Genetic algorithms with R**\n",
        "## Created by **Ramses Alexander Coraspe Valdez**\n",
        "## Created on July 1, 2020\n",
        "\n",
        "\n",
        "\n",
        "# Looking for extreme of a function/GA tries to find minimum of the function\n",
        ">**[Start]** Generate random population of n chromosomes (suitable solutions for the problem)\n",
        "\n",
        ">**[Fitness]** Evaluate the fitness f(x) of each chromosome x in the population\n",
        "\n",
        ">**[New population]** Create a new population by repeating following steps until the new population is complete\n",
        "\n",
        ">**[Selection]** Select two parent chromosomes from a population according to their fitness (the better fitness, the bigger chance to be selected)\n",
        "\n",
        ">**[Crossover]** With a crossover probability cross over the parents to form a new offspring (children). If no crossover was performed, offspring is an exact copy of parents\n",
        "\n",
        ">**[Mutation]** With a mutation probability mutate new offspring at each locus (position in chromosome).\n",
        "\n",
        ">**[Accepting]** Place new offspring in a new population\n",
        "\n",
        ">**[Replace]** Use new generated population for a further run of algorithm\n",
        "\n",
        ">**[Test]** If the end condition is satisfied, stop, and return the best solution in current population\n",
        "\n",
        ">**[Loop]** Go to step 2"
      ]
    },
    {
      "cell_type": "markdown",
      "metadata": {
        "id": "1M8Wrd50Zyfr",
        "colab_type": "text"
      },
      "source": [
        "## Installing libraries"
      ]
    },
    {
      "cell_type": "code",
      "metadata": {
        "id": "tg4XUaNygDBp",
        "colab_type": "code",
        "colab": {}
      },
      "source": [
        "install.packages(\"genalg\")\n",
        "library(genalg) #A R based genetic algorithm that optimizes, using a user set evaluation function, a binary chromosome which can be used for variable selection. The optimum is the chromosome for which the evaluation value is minimal.\n"
      ],
      "execution_count": null,
      "outputs": []
    },
    {
      "cell_type": "markdown",
      "metadata": {
        "id": "RZ1-XnpzZ1uA",
        "colab_type": "text"
      },
      "source": [
        "## Importing libraries"
      ]
    },
    {
      "cell_type": "code",
      "metadata": {
        "id": "H6opECZygIYB",
        "colab_type": "code",
        "colab": {}
      },
      "source": [
        "library(genalg)\n",
        "library(parallel)\n",
        "library(ggplot2)\n",
        "detectCores(all.tests = FALSE, logical = TRUE)"
      ],
      "execution_count": null,
      "outputs": []
    },
    {
      "cell_type": "markdown",
      "metadata": {
        "id": "MGCAH8XmsDIe",
        "colab_type": "text"
      },
      "source": [
        "# **Knapsack problem**\n",
        "[The problem](https://en.wikipedia.org/wiki/Knapsack_problem)"
      ]
    },
    {
      "cell_type": "code",
      "metadata": {
        "id": "cgrJdvySs4ce",
        "colab_type": "code",
        "colab": {}
      },
      "source": [
        "weight.limit <- 10\n",
        "\n",
        "items <- data.frame(\n",
        "  item=c(\"encendedor\",\"casa_camp\",\"navaja\",\"linterna\",\n",
        "         \"manta\",\"sleep_bag\",\"brujula\", \"agua.5.litro\", \n",
        "         \"atun.kilo\", \"cuchillo\", \"cerillos\", \"bat.extra\"\n",
        "         ,\"pedernal\", \"jabon\", \"cepillo\", \"papel.higie\", \n",
        "         \"barritas.avena\",\"kit.pesca\", \"cazuela\", \"botiquin\",\n",
        "         \"carne.seca\",\"cerveza\", \"mezcal\", \"hielos\", \n",
        "         \"bloqueador_solar\",\"camisa_larga\",\"sombrero\",\"gps\",\n",
        "         \"paneles_solares\", \"mapa\",\n",
        "         \"repelente\", \"zapatos especiales\", \"cuerdas\", \n",
        "         \"hacha\", \"escopeta\",  \"telefono\", \"balas\"),\n",
        "\n",
        "  survivalpoints = c(90,95,85,70,\n",
        "                     50,60,80,100,\n",
        "                     80,85,70,50,\n",
        "                     80,40,40,10,\n",
        "                     40,5,55,99,\n",
        "                     99,5,5,2,\n",
        "                     5,80,50,90,\n",
        "                     50,99,\n",
        "                     20, 50, 60,\n",
        "                     70, 60, 20, 50),\n",
        "\n",
        "  weight = c(.01, 5,.1,.5,\n",
        "             2,1,.01, 5, \n",
        "             1,.1,.01,.5,\n",
        "             1,.1,.01,.1,\n",
        "             .5,2,.5,.5,\n",
        "             1,1,1,1,\n",
        "             .5,.2,.3,1,\n",
        "             2,.3,\n",
        "             .3, .5, 1,\n",
        "             1, 1, 0.4, 0.6)             \n",
        ")"
      ],
      "execution_count": null,
      "outputs": []
    },
    {
      "cell_type": "code",
      "metadata": {
        "id": "JkOlLBlVwNdo",
        "colab_type": "code",
        "colab": {
          "base_uri": "https://localhost:8080/",
          "height": 717
        },
        "outputId": "449d88e7-c0c7-4414-eac2-d23c82999afb"
      },
      "source": [
        "items"
      ],
      "execution_count": null,
      "outputs": [
        {
          "output_type": "display_data",
          "data": {
            "text/plain": [
              "   item               survivalpoints weight\n",
              "1  encendedor          90            0.01  \n",
              "2  casa_camp           95            5.00  \n",
              "3  navaja              85            0.10  \n",
              "4  linterna            70            0.50  \n",
              "5  manta               50            2.00  \n",
              "6  sleep_bag           60            1.00  \n",
              "7  brujula             80            0.01  \n",
              "8  agua.5.litro       100            5.00  \n",
              "9  atun.kilo           80            1.00  \n",
              "10 cuchillo            85            0.10  \n",
              "11 cerillos            70            0.01  \n",
              "12 bat.extra           50            0.50  \n",
              "13 pedernal            80            1.00  \n",
              "14 jabon               40            0.10  \n",
              "15 cepillo             40            0.01  \n",
              "16 papel.higie         10            0.10  \n",
              "17 barritas.avena      40            0.50  \n",
              "18 kit.pesca            5            2.00  \n",
              "19 cazuela             55            0.50  \n",
              "20 botiquin            99            0.50  \n",
              "21 carne.seca          99            1.00  \n",
              "22 cerveza              5            1.00  \n",
              "23 mezcal               5            1.00  \n",
              "24 hielos               2            1.00  \n",
              "25 bloqueador_solar     5            0.50  \n",
              "26 camisa_larga        80            0.20  \n",
              "27 sombrero            50            0.30  \n",
              "28 gps                 90            1.00  \n",
              "29 paneles_solares     50            2.00  \n",
              "30 mapa                99            0.30  \n",
              "31 repelente           20            0.30  \n",
              "32 zapatos especiales  50            0.50  \n",
              "33 cuerdas             60            1.00  \n",
              "34 hacha               70            1.00  \n",
              "35 escopeta            60            1.00  \n",
              "36 telefono            20            0.40  \n",
              "37 balas               50            0.60  "
            ],
            "text/latex": "A data.frame: 37 × 3\n\\begin{tabular}{lll}\n item & survivalpoints & weight\\\\\n <fct> & <dbl> & <dbl>\\\\\n\\hline\n\t encendedor         &  90 & 0.01\\\\\n\t casa\\_camp          &  95 & 5.00\\\\\n\t navaja             &  85 & 0.10\\\\\n\t linterna           &  70 & 0.50\\\\\n\t manta              &  50 & 2.00\\\\\n\t sleep\\_bag          &  60 & 1.00\\\\\n\t brujula            &  80 & 0.01\\\\\n\t agua.5.litro       & 100 & 5.00\\\\\n\t atun.kilo          &  80 & 1.00\\\\\n\t cuchillo           &  85 & 0.10\\\\\n\t cerillos           &  70 & 0.01\\\\\n\t bat.extra          &  50 & 0.50\\\\\n\t pedernal           &  80 & 1.00\\\\\n\t jabon              &  40 & 0.10\\\\\n\t cepillo            &  40 & 0.01\\\\\n\t papel.higie        &  10 & 0.10\\\\\n\t barritas.avena     &  40 & 0.50\\\\\n\t kit.pesca          &   5 & 2.00\\\\\n\t cazuela            &  55 & 0.50\\\\\n\t botiquin           &  99 & 0.50\\\\\n\t carne.seca         &  99 & 1.00\\\\\n\t cerveza            &   5 & 1.00\\\\\n\t mezcal             &   5 & 1.00\\\\\n\t hielos             &   2 & 1.00\\\\\n\t bloqueador\\_solar   &   5 & 0.50\\\\\n\t camisa\\_larga       &  80 & 0.20\\\\\n\t sombrero           &  50 & 0.30\\\\\n\t gps                &  90 & 1.00\\\\\n\t paneles\\_solares    &  50 & 2.00\\\\\n\t mapa               &  99 & 0.30\\\\\n\t repelente          &  20 & 0.30\\\\\n\t zapatos especiales &  50 & 0.50\\\\\n\t cuerdas            &  60 & 1.00\\\\\n\t hacha              &  70 & 1.00\\\\\n\t escopeta           &  60 & 1.00\\\\\n\t telefono           &  20 & 0.40\\\\\n\t balas              &  50 & 0.60\\\\\n\\end{tabular}\n",
            "text/markdown": "\nA data.frame: 37 × 3\n\n| item &lt;fct&gt; | survivalpoints &lt;dbl&gt; | weight &lt;dbl&gt; |\n|---|---|---|\n| encendedor         |  90 | 0.01 |\n| casa_camp          |  95 | 5.00 |\n| navaja             |  85 | 0.10 |\n| linterna           |  70 | 0.50 |\n| manta              |  50 | 2.00 |\n| sleep_bag          |  60 | 1.00 |\n| brujula            |  80 | 0.01 |\n| agua.5.litro       | 100 | 5.00 |\n| atun.kilo          |  80 | 1.00 |\n| cuchillo           |  85 | 0.10 |\n| cerillos           |  70 | 0.01 |\n| bat.extra          |  50 | 0.50 |\n| pedernal           |  80 | 1.00 |\n| jabon              |  40 | 0.10 |\n| cepillo            |  40 | 0.01 |\n| papel.higie        |  10 | 0.10 |\n| barritas.avena     |  40 | 0.50 |\n| kit.pesca          |   5 | 2.00 |\n| cazuela            |  55 | 0.50 |\n| botiquin           |  99 | 0.50 |\n| carne.seca         |  99 | 1.00 |\n| cerveza            |   5 | 1.00 |\n| mezcal             |   5 | 1.00 |\n| hielos             |   2 | 1.00 |\n| bloqueador_solar   |   5 | 0.50 |\n| camisa_larga       |  80 | 0.20 |\n| sombrero           |  50 | 0.30 |\n| gps                |  90 | 1.00 |\n| paneles_solares    |  50 | 2.00 |\n| mapa               |  99 | 0.30 |\n| repelente          |  20 | 0.30 |\n| zapatos especiales |  50 | 0.50 |\n| cuerdas            |  60 | 1.00 |\n| hacha              |  70 | 1.00 |\n| escopeta           |  60 | 1.00 |\n| telefono           |  20 | 0.40 |\n| balas              |  50 | 0.60 |\n\n",
            "text/html": [
              "<table>\n",
              "<caption>A data.frame: 37 × 3</caption>\n",
              "<thead>\n",
              "\t<tr><th scope=col>item</th><th scope=col>survivalpoints</th><th scope=col>weight</th></tr>\n",
              "\t<tr><th scope=col>&lt;fct&gt;</th><th scope=col>&lt;dbl&gt;</th><th scope=col>&lt;dbl&gt;</th></tr>\n",
              "</thead>\n",
              "<tbody>\n",
              "\t<tr><td>encendedor        </td><td> 90</td><td>0.01</td></tr>\n",
              "\t<tr><td>casa_camp         </td><td> 95</td><td>5.00</td></tr>\n",
              "\t<tr><td>navaja            </td><td> 85</td><td>0.10</td></tr>\n",
              "\t<tr><td>linterna          </td><td> 70</td><td>0.50</td></tr>\n",
              "\t<tr><td>manta             </td><td> 50</td><td>2.00</td></tr>\n",
              "\t<tr><td>sleep_bag         </td><td> 60</td><td>1.00</td></tr>\n",
              "\t<tr><td>brujula           </td><td> 80</td><td>0.01</td></tr>\n",
              "\t<tr><td>agua.5.litro      </td><td>100</td><td>5.00</td></tr>\n",
              "\t<tr><td>atun.kilo         </td><td> 80</td><td>1.00</td></tr>\n",
              "\t<tr><td>cuchillo          </td><td> 85</td><td>0.10</td></tr>\n",
              "\t<tr><td>cerillos          </td><td> 70</td><td>0.01</td></tr>\n",
              "\t<tr><td>bat.extra         </td><td> 50</td><td>0.50</td></tr>\n",
              "\t<tr><td>pedernal          </td><td> 80</td><td>1.00</td></tr>\n",
              "\t<tr><td>jabon             </td><td> 40</td><td>0.10</td></tr>\n",
              "\t<tr><td>cepillo           </td><td> 40</td><td>0.01</td></tr>\n",
              "\t<tr><td>papel.higie       </td><td> 10</td><td>0.10</td></tr>\n",
              "\t<tr><td>barritas.avena    </td><td> 40</td><td>0.50</td></tr>\n",
              "\t<tr><td>kit.pesca         </td><td>  5</td><td>2.00</td></tr>\n",
              "\t<tr><td>cazuela           </td><td> 55</td><td>0.50</td></tr>\n",
              "\t<tr><td>botiquin          </td><td> 99</td><td>0.50</td></tr>\n",
              "\t<tr><td>carne.seca        </td><td> 99</td><td>1.00</td></tr>\n",
              "\t<tr><td>cerveza           </td><td>  5</td><td>1.00</td></tr>\n",
              "\t<tr><td>mezcal            </td><td>  5</td><td>1.00</td></tr>\n",
              "\t<tr><td>hielos            </td><td>  2</td><td>1.00</td></tr>\n",
              "\t<tr><td>bloqueador_solar  </td><td>  5</td><td>0.50</td></tr>\n",
              "\t<tr><td>camisa_larga      </td><td> 80</td><td>0.20</td></tr>\n",
              "\t<tr><td>sombrero          </td><td> 50</td><td>0.30</td></tr>\n",
              "\t<tr><td>gps               </td><td> 90</td><td>1.00</td></tr>\n",
              "\t<tr><td>paneles_solares   </td><td> 50</td><td>2.00</td></tr>\n",
              "\t<tr><td>mapa              </td><td> 99</td><td>0.30</td></tr>\n",
              "\t<tr><td>repelente         </td><td> 20</td><td>0.30</td></tr>\n",
              "\t<tr><td>zapatos especiales</td><td> 50</td><td>0.50</td></tr>\n",
              "\t<tr><td>cuerdas           </td><td> 60</td><td>1.00</td></tr>\n",
              "\t<tr><td>hacha             </td><td> 70</td><td>1.00</td></tr>\n",
              "\t<tr><td>escopeta          </td><td> 60</td><td>1.00</td></tr>\n",
              "\t<tr><td>telefono          </td><td> 20</td><td>0.40</td></tr>\n",
              "\t<tr><td>balas             </td><td> 50</td><td>0.60</td></tr>\n",
              "</tbody>\n",
              "</table>\n"
            ]
          },
          "metadata": {
            "tags": []
          }
        }
      ]
    },
    {
      "cell_type": "code",
      "metadata": {
        "id": "TUZkZRaywRIA",
        "colab_type": "code",
        "colab": {}
      },
      "source": [
        "fitness.generic <- function(x) {\n",
        "  items.weight <- x %*% items$weight\n",
        "  items.s.p <- x %*% items$survivalpoints\n",
        "  if (items.weight > weight.limit) \n",
        "  {\n",
        "    return(0)\n",
        "  }\n",
        "  else\n",
        "  {\n",
        "    return (-items.s.p)\n",
        "  }\n",
        "}"
      ],
      "execution_count": null,
      "outputs": []
    },
    {
      "cell_type": "code",
      "metadata": {
        "id": "gu6-Vw6hwXWF",
        "colab_type": "code",
        "colab": {}
      },
      "source": [
        "?rbga.bin\n",
        "ga.one <- rbga.bin(size=37,\n",
        "                   popSize=200,\n",
        "                   iters=200,\n",
        "                   mutationChance=0.01,\n",
        "                   elitism = 4,\n",
        "                   evalFunc = fitness.generic,\n",
        "                   verbose = T\n",
        ")"
      ],
      "execution_count": null,
      "outputs": []
    },
    {
      "cell_type": "code",
      "metadata": {
        "id": "yIkJZt6VwYBG",
        "colab_type": "code",
        "colab": {
          "base_uri": "https://localhost:8080/",
          "height": 282
        },
        "outputId": "fb6623de-774d-45da-fd62-c30f5b4fd135"
      },
      "source": [
        "best <- ga.one$population[ga.one$evaluations == min(ga.one$best),][1,]\n",
        "best.items <- items$item[best == 1]\n",
        "best.items\n",
        "\n",
        "\n",
        "Finalweights <- best %*% items$weight\n",
        "Finalweights\n",
        "Finalsurvivalpoints <- best %*% items$survivalpoints\n",
        "Finalsurvivalpoints\n"
      ],
      "execution_count": null,
      "outputs": [
        {
          "output_type": "display_data",
          "data": {
            "text/plain": [
              " [1] encendedor         navaja             linterna           brujula           \n",
              " [5] atun.kilo          cuchillo           cerillos           pedernal          \n",
              " [9] jabon              cepillo            barritas.avena     cazuela           \n",
              "[13] botiquin           carne.seca         camisa_larga       gps               \n",
              "[17] mapa               zapatos especiales cuerdas            hacha             \n",
              "[21] balas             \n",
              "37 Levels: agua.5.litro atun.kilo balas barritas.avena ... zapatos especiales"
            ],
            "text/latex": "\\begin{enumerate*}\n\\item encendedor\n\\item navaja\n\\item linterna\n\\item brujula\n\\item atun.kilo\n\\item cuchillo\n\\item cerillos\n\\item pedernal\n\\item jabon\n\\item cepillo\n\\item barritas.avena\n\\item cazuela\n\\item botiquin\n\\item carne.seca\n\\item camisa\\_larga\n\\item gps\n\\item mapa\n\\item zapatos especiales\n\\item cuerdas\n\\item hacha\n\\item balas\n\\end{enumerate*}\n\n\\emph{Levels}: \\begin{enumerate*}\n\\item 'agua.5.litro'\n\\item 'atun.kilo'\n\\item 'balas'\n\\item 'barritas.avena'\n\\item 'bat.extra'\n\\item 'bloqueador\\_solar'\n\\item 'botiquin'\n\\item 'brujula'\n\\item 'camisa\\_larga'\n\\item 'carne.seca'\n\\item 'casa\\_camp'\n\\item 'cazuela'\n\\item 'cepillo'\n\\item 'cerillos'\n\\item 'cerveza'\n\\item 'cuchillo'\n\\item 'cuerdas'\n\\item 'encendedor'\n\\item 'escopeta'\n\\item 'gps'\n\\item 'hacha'\n\\item 'hielos'\n\\item 'jabon'\n\\item 'kit.pesca'\n\\item 'linterna'\n\\item 'manta'\n\\item 'mapa'\n\\item 'mezcal'\n\\item 'navaja'\n\\item 'paneles\\_solares'\n\\item 'papel.higie'\n\\item 'pedernal'\n\\item 'repelente'\n\\item 'sleep\\_bag'\n\\item 'sombrero'\n\\item 'telefono'\n\\item 'zapatos especiales'\n\\end{enumerate*}\n",
            "text/markdown": "1. encendedor\n2. navaja\n3. linterna\n4. brujula\n5. atun.kilo\n6. cuchillo\n7. cerillos\n8. pedernal\n9. jabon\n10. cepillo\n11. barritas.avena\n12. cazuela\n13. botiquin\n14. carne.seca\n15. camisa_larga\n16. gps\n17. mapa\n18. zapatos especiales\n19. cuerdas\n20. hacha\n21. balas\n\n\n\n**Levels**: 1. 'agua.5.litro'\n2. 'atun.kilo'\n3. 'balas'\n4. 'barritas.avena'\n5. 'bat.extra'\n6. 'bloqueador_solar'\n7. 'botiquin'\n8. 'brujula'\n9. 'camisa_larga'\n10. 'carne.seca'\n11. 'casa_camp'\n12. 'cazuela'\n13. 'cepillo'\n14. 'cerillos'\n15. 'cerveza'\n16. 'cuchillo'\n17. 'cuerdas'\n18. 'encendedor'\n19. 'escopeta'\n20. 'gps'\n21. 'hacha'\n22. 'hielos'\n23. 'jabon'\n24. 'kit.pesca'\n25. 'linterna'\n26. 'manta'\n27. 'mapa'\n28. 'mezcal'\n29. 'navaja'\n30. 'paneles_solares'\n31. 'papel.higie'\n32. 'pedernal'\n33. 'repelente'\n34. 'sleep_bag'\n35. 'sombrero'\n36. 'telefono'\n37. 'zapatos especiales'\n\n\n",
            "text/html": [
              "<style>\n",
              ".list-inline {list-style: none; margin:0; padding: 0}\n",
              ".list-inline>li {display: inline-block}\n",
              ".list-inline>li:not(:last-child)::after {content: \"\\00b7\"; padding: 0 .5ex}\n",
              "</style>\n",
              "<ol class=list-inline><li>encendedor</li><li>navaja</li><li>linterna</li><li>brujula</li><li>atun.kilo</li><li>cuchillo</li><li>cerillos</li><li>pedernal</li><li>jabon</li><li>cepillo</li><li>barritas.avena</li><li>cazuela</li><li>botiquin</li><li>carne.seca</li><li>camisa_larga</li><li>gps</li><li>mapa</li><li>zapatos especiales</li><li>cuerdas</li><li>hacha</li><li>balas</li></ol>\n",
              "\n",
              "<details>\n",
              "\t<summary style=display:list-item;cursor:pointer>\n",
              "\t\t<strong>Levels</strong>:\n",
              "\t</summary>\n",
              "\t<style>\n",
              "\t.list-inline {list-style: none; margin:0; padding: 0}\n",
              "\t.list-inline>li {display: inline-block}\n",
              "\t.list-inline>li:not(:last-child)::after {content: \"\\00b7\"; padding: 0 .5ex}\n",
              "\t</style>\n",
              "\t<ol class=list-inline><li>'agua.5.litro'</li><li>'atun.kilo'</li><li>'balas'</li><li>'barritas.avena'</li><li>'bat.extra'</li><li>'bloqueador_solar'</li><li>'botiquin'</li><li>'brujula'</li><li>'camisa_larga'</li><li>'carne.seca'</li><li>'casa_camp'</li><li>'cazuela'</li><li>'cepillo'</li><li>'cerillos'</li><li>'cerveza'</li><li>'cuchillo'</li><li>'cuerdas'</li><li>'encendedor'</li><li>'escopeta'</li><li>'gps'</li><li>'hacha'</li><li>'hielos'</li><li>'jabon'</li><li>'kit.pesca'</li><li>'linterna'</li><li>'manta'</li><li>'mapa'</li><li>'mezcal'</li><li>'navaja'</li><li>'paneles_solares'</li><li>'papel.higie'</li><li>'pedernal'</li><li>'repelente'</li><li>'sleep_bag'</li><li>'sombrero'</li><li>'telefono'</li><li>'zapatos especiales'</li></ol>\n",
              "</details>"
            ]
          },
          "metadata": {
            "tags": []
          }
        },
        {
          "output_type": "display_data",
          "data": {
            "text/plain": [
              "     [,1]\n",
              "[1,] 9.94"
            ],
            "text/latex": "A matrix: 1 × 1 of type dbl\n\\begin{tabular}{l}\n\t 9.94\\\\\n\\end{tabular}\n",
            "text/markdown": "\nA matrix: 1 × 1 of type dbl\n\n| 9.94 |\n\n",
            "text/html": [
              "<table>\n",
              "<caption>A matrix: 1 × 1 of type dbl</caption>\n",
              "<tbody>\n",
              "\t<tr><td>9.94</td></tr>\n",
              "</tbody>\n",
              "</table>\n"
            ]
          },
          "metadata": {
            "tags": []
          }
        },
        {
          "output_type": "display_data",
          "data": {
            "text/plain": [
              "     [,1]\n",
              "[1,] 1512"
            ],
            "text/latex": "A matrix: 1 × 1 of type dbl\n\\begin{tabular}{l}\n\t 1512\\\\\n\\end{tabular}\n",
            "text/markdown": "\nA matrix: 1 × 1 of type dbl\n\n| 1512 |\n\n",
            "text/html": [
              "<table>\n",
              "<caption>A matrix: 1 × 1 of type dbl</caption>\n",
              "<tbody>\n",
              "\t<tr><td>1512</td></tr>\n",
              "</tbody>\n",
              "</table>\n"
            ]
          },
          "metadata": {
            "tags": []
          }
        }
      ]
    },
    {
      "cell_type": "markdown",
      "metadata": {
        "id": "7LodAMgJ4FHi",
        "colab_type": "text"
      },
      "source": [
        "##### **The above result shows that the items in the backpack should be: encendedor,navaja,linterna,brujula,atun.kilo,cuchillo,cerillos,pedernal,jabon,cepillo,barritas.avena,cazuela,botiquin,carne.seca,camisa_larga,gps,mapa,zapatos especiales,cuerdas,hacha,balas with a total weight of 9.94 kilos, which meets the limit of 10 kilos, and a survivalpoint of 1512. however, the choice of a \"linterna\" without \"bat.extra\" should be punished, now, let's improve the fittnes function to give more information to the genetic algorithm, because the presence of some elements are unnecessary if they are not supported by the presence of others.**"
      ]
    },
    {
      "cell_type": "markdown",
      "metadata": {
        "id": "H9yyU_FLxMu-",
        "colab_type": "text"
      },
      "source": [
        "# **Improving Fitness Function**"
      ]
    },
    {
      "cell_type": "code",
      "metadata": {
        "id": "FVeOTXbyyU5Y",
        "colab_type": "code",
        "colab": {}
      },
      "source": [
        "fit.punish <- function(x){  \n",
        "    punishment <- 0    \n",
        "    #\"linterna vs bat.extra\" , \"escopeta vs balas\"    \n",
        "    p <- list('1'=c(4,12), '2'=c(35,37))    \n",
        "\n",
        "    for (v in p) {\n",
        "        result <- x[v[1]] - x[v[2]]        \n",
        "        if(result < 0 ){\n",
        "                punishment <- punishment + (items$survivalpoints[v[1]] + items$survivalpoints[v[2]])\n",
        "        }\n",
        "        else if(result > 0) {\n",
        "                punishment <- punishment + items$survivalpoints[v[1]]\n",
        "        }\n",
        "        else   {                    \n",
        "        }\n",
        "    }\n",
        "    return (punishment)\n",
        "}\n",
        "\n",
        "fitness.generic.2 <- function(x) {\n",
        "  items.weight <- x %*% items$weight\n",
        "  items.s.p <- x %*% items$survivalpoints\n",
        "  if (items.weight > weight.limit){\n",
        "    return(0)\n",
        "  }\n",
        "  else{\n",
        "    fit.val <- items.s.p - fit.punish(x)\n",
        "    return (-fit.val)\n",
        "  }\n",
        "}\n"
      ],
      "execution_count": null,
      "outputs": []
    },
    {
      "cell_type": "code",
      "metadata": {
        "id": "GOiyZj8YyVoD",
        "colab_type": "code",
        "colab": {}
      },
      "source": [
        "?rbga.bin\n",
        "ga.one <- rbga.bin(size=37,\n",
        "                   popSize=200,\n",
        "                   iters=200,\n",
        "                   mutationChance=0.01,\n",
        "                   elitism = 4,\n",
        "                   evalFunc = fitness.generic.2,\n",
        "                   verbose = T\n",
        ")"
      ],
      "execution_count": null,
      "outputs": []
    },
    {
      "cell_type": "code",
      "metadata": {
        "id": "UnEQ9BHPb91b",
        "colab_type": "code",
        "colab": {
          "base_uri": "https://localhost:8080/",
          "height": 282
        },
        "outputId": "00fd0169-329c-4f1e-ce12-d525d5c2b97b"
      },
      "source": [
        "best <- ga.one$population[ga.one$evaluations == min(ga.one$best),][1,]\n",
        "best.items <- items$item[best == 1]\n",
        "best.items\n",
        "\n",
        "\n",
        "Finalweights <- best %*% items$weight\n",
        "Finalweights\n",
        "Finalsurvivalpoints <- best %*% items$survivalpoints\n",
        "Finalsurvivalpoints"
      ],
      "execution_count": null,
      "outputs": [
        {
          "output_type": "display_data",
          "data": {
            "text/plain": [
              " [1] encendedor     navaja         linterna       brujula        atun.kilo     \n",
              " [6] cuchillo       cerillos       bat.extra      pedernal       jabon         \n",
              "[11] cepillo        barritas.avena cazuela        botiquin       carne.seca    \n",
              "[16] camisa_larga   gps            mapa           hacha          escopeta      \n",
              "[21] balas         \n",
              "37 Levels: agua.5.litro atun.kilo balas barritas.avena ... zapatos especiales"
            ],
            "text/latex": "\\begin{enumerate*}\n\\item encendedor\n\\item navaja\n\\item linterna\n\\item brujula\n\\item atun.kilo\n\\item cuchillo\n\\item cerillos\n\\item bat.extra\n\\item pedernal\n\\item jabon\n\\item cepillo\n\\item barritas.avena\n\\item cazuela\n\\item botiquin\n\\item carne.seca\n\\item camisa\\_larga\n\\item gps\n\\item mapa\n\\item hacha\n\\item escopeta\n\\item balas\n\\end{enumerate*}\n\n\\emph{Levels}: \\begin{enumerate*}\n\\item 'agua.5.litro'\n\\item 'atun.kilo'\n\\item 'balas'\n\\item 'barritas.avena'\n\\item 'bat.extra'\n\\item 'bloqueador\\_solar'\n\\item 'botiquin'\n\\item 'brujula'\n\\item 'camisa\\_larga'\n\\item 'carne.seca'\n\\item 'casa\\_camp'\n\\item 'cazuela'\n\\item 'cepillo'\n\\item 'cerillos'\n\\item 'cerveza'\n\\item 'cuchillo'\n\\item 'cuerdas'\n\\item 'encendedor'\n\\item 'escopeta'\n\\item 'gps'\n\\item 'hacha'\n\\item 'hielos'\n\\item 'jabon'\n\\item 'kit.pesca'\n\\item 'linterna'\n\\item 'manta'\n\\item 'mapa'\n\\item 'mezcal'\n\\item 'navaja'\n\\item 'paneles\\_solares'\n\\item 'papel.higie'\n\\item 'pedernal'\n\\item 'repelente'\n\\item 'sleep\\_bag'\n\\item 'sombrero'\n\\item 'telefono'\n\\item 'zapatos especiales'\n\\end{enumerate*}\n",
            "text/markdown": "1. encendedor\n2. navaja\n3. linterna\n4. brujula\n5. atun.kilo\n6. cuchillo\n7. cerillos\n8. bat.extra\n9. pedernal\n10. jabon\n11. cepillo\n12. barritas.avena\n13. cazuela\n14. botiquin\n15. carne.seca\n16. camisa_larga\n17. gps\n18. mapa\n19. hacha\n20. escopeta\n21. balas\n\n\n\n**Levels**: 1. 'agua.5.litro'\n2. 'atun.kilo'\n3. 'balas'\n4. 'barritas.avena'\n5. 'bat.extra'\n6. 'bloqueador_solar'\n7. 'botiquin'\n8. 'brujula'\n9. 'camisa_larga'\n10. 'carne.seca'\n11. 'casa_camp'\n12. 'cazuela'\n13. 'cepillo'\n14. 'cerillos'\n15. 'cerveza'\n16. 'cuchillo'\n17. 'cuerdas'\n18. 'encendedor'\n19. 'escopeta'\n20. 'gps'\n21. 'hacha'\n22. 'hielos'\n23. 'jabon'\n24. 'kit.pesca'\n25. 'linterna'\n26. 'manta'\n27. 'mapa'\n28. 'mezcal'\n29. 'navaja'\n30. 'paneles_solares'\n31. 'papel.higie'\n32. 'pedernal'\n33. 'repelente'\n34. 'sleep_bag'\n35. 'sombrero'\n36. 'telefono'\n37. 'zapatos especiales'\n\n\n",
            "text/html": [
              "<style>\n",
              ".list-inline {list-style: none; margin:0; padding: 0}\n",
              ".list-inline>li {display: inline-block}\n",
              ".list-inline>li:not(:last-child)::after {content: \"\\00b7\"; padding: 0 .5ex}\n",
              "</style>\n",
              "<ol class=list-inline><li>encendedor</li><li>navaja</li><li>linterna</li><li>brujula</li><li>atun.kilo</li><li>cuchillo</li><li>cerillos</li><li>bat.extra</li><li>pedernal</li><li>jabon</li><li>cepillo</li><li>barritas.avena</li><li>cazuela</li><li>botiquin</li><li>carne.seca</li><li>camisa_larga</li><li>gps</li><li>mapa</li><li>hacha</li><li>escopeta</li><li>balas</li></ol>\n",
              "\n",
              "<details>\n",
              "\t<summary style=display:list-item;cursor:pointer>\n",
              "\t\t<strong>Levels</strong>:\n",
              "\t</summary>\n",
              "\t<style>\n",
              "\t.list-inline {list-style: none; margin:0; padding: 0}\n",
              "\t.list-inline>li {display: inline-block}\n",
              "\t.list-inline>li:not(:last-child)::after {content: \"\\00b7\"; padding: 0 .5ex}\n",
              "\t</style>\n",
              "\t<ol class=list-inline><li>'agua.5.litro'</li><li>'atun.kilo'</li><li>'balas'</li><li>'barritas.avena'</li><li>'bat.extra'</li><li>'bloqueador_solar'</li><li>'botiquin'</li><li>'brujula'</li><li>'camisa_larga'</li><li>'carne.seca'</li><li>'casa_camp'</li><li>'cazuela'</li><li>'cepillo'</li><li>'cerillos'</li><li>'cerveza'</li><li>'cuchillo'</li><li>'cuerdas'</li><li>'encendedor'</li><li>'escopeta'</li><li>'gps'</li><li>'hacha'</li><li>'hielos'</li><li>'jabon'</li><li>'kit.pesca'</li><li>'linterna'</li><li>'manta'</li><li>'mapa'</li><li>'mezcal'</li><li>'navaja'</li><li>'paneles_solares'</li><li>'papel.higie'</li><li>'pedernal'</li><li>'repelente'</li><li>'sleep_bag'</li><li>'sombrero'</li><li>'telefono'</li><li>'zapatos especiales'</li></ol>\n",
              "</details>"
            ]
          },
          "metadata": {
            "tags": []
          }
        },
        {
          "output_type": "display_data",
          "data": {
            "text/plain": [
              "     [,1]\n",
              "[1,] 9.94"
            ],
            "text/latex": "A matrix: 1 × 1 of type dbl\n\\begin{tabular}{l}\n\t 9.94\\\\\n\\end{tabular}\n",
            "text/markdown": "\nA matrix: 1 × 1 of type dbl\n\n| 9.94 |\n\n",
            "text/html": [
              "<table>\n",
              "<caption>A matrix: 1 × 1 of type dbl</caption>\n",
              "<tbody>\n",
              "\t<tr><td>9.94</td></tr>\n",
              "</tbody>\n",
              "</table>\n"
            ]
          },
          "metadata": {
            "tags": []
          }
        },
        {
          "output_type": "display_data",
          "data": {
            "text/plain": [
              "     [,1]\n",
              "[1,] 1512"
            ],
            "text/latex": "A matrix: 1 × 1 of type dbl\n\\begin{tabular}{l}\n\t 1512\\\\\n\\end{tabular}\n",
            "text/markdown": "\nA matrix: 1 × 1 of type dbl\n\n| 1512 |\n\n",
            "text/html": [
              "<table>\n",
              "<caption>A matrix: 1 × 1 of type dbl</caption>\n",
              "<tbody>\n",
              "\t<tr><td>1512</td></tr>\n",
              "</tbody>\n",
              "</table>\n"
            ]
          },
          "metadata": {
            "tags": []
          }
        }
      ]
    },
    {
      "cell_type": "markdown",
      "metadata": {
        "id": "0Cg97mreijdb",
        "colab_type": "text"
      },
      "source": [
        "# **Conclusions**\n",
        "The improved fitness function offers correct results, the presence or absence of elements in the Knapsack that depend on others is being punished, therefore the function will always try to include both. \"linterna, bat.extra\" and \"escopeta , balas\""
      ]
    },
    {
      "cell_type": "markdown",
      "metadata": {
        "id": "fO02r36t2rYx",
        "colab_type": "text"
      },
      "source": [
        "![texto alternativo](https://wittline.github.io/Data-Analytics-with-R/Genetic%20algorithms//images/Knapsack_AG.PNG)"
      ]
    }
  ]
}