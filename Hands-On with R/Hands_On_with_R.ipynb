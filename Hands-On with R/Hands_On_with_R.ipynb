{
  "nbformat": 4,
  "nbformat_minor": 0,
  "metadata": {
    "colab": {
      "name": "Hands_On_with_R.html.ipynb",
      "provenance": [],
      "collapsed_sections": []
    },
    "kernelspec": {
      "name": "ir",
      "display_name": "R"
    }
  },
  "cells": [
    {
      "cell_type": "markdown",
      "metadata": {
        "id": "AtxyCnlCcAi1",
        "colab_type": "text"
      },
      "source": [
        "# **Hands On with R**\n",
        "## Created by **Ramses Alexander Coraspe Valdez**\n",
        "## Created on July 1, 2020"
      ]
    },
    {
      "cell_type": "markdown",
      "metadata": {
        "id": "0GvOVnZ_fifP",
        "colab_type": "text"
      },
      "source": [
        "### **An object can be created with the operator <- or -> depending on the direction in which the object is assigned:**"
      ]
    },
    {
      "cell_type": "code",
      "metadata": {
        "id": "cgrJdvySs4ce",
        "colab_type": "code",
        "colab": {
          "base_uri": "https://localhost:8080/",
          "height": 82
        },
        "outputId": "42defd18-c9e3-416a-8ab2-6fe6818f55ce"
      },
      "source": [
        "n <- 15\n",
        "n\n",
        "5 -> n\n",
        "n\n",
        "x <- 1\n",
        "X <- 10\n",
        "x\n",
        "X"
      ],
      "execution_count": 3,
      "outputs": [
        {
          "output_type": "display_data",
          "data": {
            "text/plain": [
              "[1] 15"
            ],
            "text/latex": "15",
            "text/markdown": "15",
            "text/html": [
              "15"
            ]
          },
          "metadata": {
            "tags": []
          }
        },
        {
          "output_type": "display_data",
          "data": {
            "text/plain": [
              "[1] 5"
            ],
            "text/latex": "5",
            "text/markdown": "5",
            "text/html": [
              "5"
            ]
          },
          "metadata": {
            "tags": []
          }
        },
        {
          "output_type": "display_data",
          "data": {
            "text/plain": [
              "[1] 1"
            ],
            "text/latex": "1",
            "text/markdown": "1",
            "text/html": [
              "1"
            ]
          },
          "metadata": {
            "tags": []
          }
        },
        {
          "output_type": "display_data",
          "data": {
            "text/plain": [
              "[1] 10"
            ],
            "text/latex": "10",
            "text/markdown": "10",
            "text/html": [
              "10"
            ]
          },
          "metadata": {
            "tags": []
          }
        }
      ]
    },
    {
      "cell_type": "markdown",
      "metadata": {
        "id": "rv26Ef1zgY86",
        "colab_type": "text"
      },
      "source": [
        "### **Every object has two intrinsic attributes: type and length**"
      ]
    },
    {
      "cell_type": "code",
      "metadata": {
        "id": "JkOlLBlVwNdo",
        "colab_type": "code",
        "colab": {
          "base_uri": "https://localhost:8080/",
          "height": 98
        },
        "outputId": "68609f4d-4f48-450e-d7bb-13de01ec8da2"
      },
      "source": [
        "x <- 1\n",
        "mode(x)\n",
        "length(x)\n",
        "A <- \"Ramses\"; compar <- TRUE; z <- 1i\n",
        "mode(A); mode(compar); mode(z)"
      ],
      "execution_count": 5,
      "outputs": [
        {
          "output_type": "display_data",
          "data": {
            "text/plain": [
              "[1] \"numeric\""
            ],
            "text/latex": "'numeric'",
            "text/markdown": "'numeric'",
            "text/html": [
              "'numeric'"
            ]
          },
          "metadata": {
            "tags": []
          }
        },
        {
          "output_type": "display_data",
          "data": {
            "text/plain": [
              "[1] 1"
            ],
            "text/latex": "1",
            "text/markdown": "1",
            "text/html": [
              "1"
            ]
          },
          "metadata": {
            "tags": []
          }
        },
        {
          "output_type": "display_data",
          "data": {
            "text/plain": [
              "[1] \"character\""
            ],
            "text/latex": "'character'",
            "text/markdown": "'character'",
            "text/html": [
              "'character'"
            ]
          },
          "metadata": {
            "tags": []
          }
        },
        {
          "output_type": "display_data",
          "data": {
            "text/plain": [
              "[1] \"logical\""
            ],
            "text/latex": "'logical'",
            "text/markdown": "'logical'",
            "text/html": [
              "'logical'"
            ]
          },
          "metadata": {
            "tags": []
          }
        },
        {
          "output_type": "display_data",
          "data": {
            "text/plain": [
              "[1] \"complex\""
            ],
            "text/latex": "'complex'",
            "text/markdown": "'complex'",
            "text/html": [
              "'complex'"
            ]
          },
          "metadata": {
            "tags": []
          }
        }
      ]
    },
    {
      "cell_type": "markdown",
      "metadata": {
        "id": "VGFV_9rLg0eO",
        "colab_type": "text"
      },
      "source": [
        "### **Vectors**"
      ]
    },
    {
      "cell_type": "code",
      "metadata": {
        "id": "5eNWrsLBgjhy",
        "colab_type": "code",
        "colab": {
          "base_uri": "https://localhost:8080/",
          "height": 82
        },
        "outputId": "569983d6-6794-4112-abbb-29f1aed4e30d"
      },
      "source": [
        "# vectores, arrays\n",
        "vector.1 <- c(1,10,100,1000) \n",
        "vector.1[4] #1-based index\n",
        "vector.1 + 1 \n",
        "vector.1 * 2\n",
        "vector.2 <- c(8, 15)\n",
        "vector.2"
      ],
      "execution_count": 7,
      "outputs": [
        {
          "output_type": "display_data",
          "data": {
            "text/plain": [
              "[1] 1000"
            ],
            "text/latex": "1000",
            "text/markdown": "1000",
            "text/html": [
              "1000"
            ]
          },
          "metadata": {
            "tags": []
          }
        },
        {
          "output_type": "display_data",
          "data": {
            "text/plain": [
              "[1]    2   11  101 1001"
            ],
            "text/latex": "\\begin{enumerate*}\n\\item 2\n\\item 11\n\\item 101\n\\item 1001\n\\end{enumerate*}\n",
            "text/markdown": "1. 2\n2. 11\n3. 101\n4. 1001\n\n\n",
            "text/html": [
              "<style>\n",
              ".list-inline {list-style: none; margin:0; padding: 0}\n",
              ".list-inline>li {display: inline-block}\n",
              ".list-inline>li:not(:last-child)::after {content: \"\\00b7\"; padding: 0 .5ex}\n",
              "</style>\n",
              "<ol class=list-inline><li>2</li><li>11</li><li>101</li><li>1001</li></ol>\n"
            ]
          },
          "metadata": {
            "tags": []
          }
        },
        {
          "output_type": "display_data",
          "data": {
            "text/plain": [
              "[1]    2   20  200 2000"
            ],
            "text/latex": "\\begin{enumerate*}\n\\item 2\n\\item 20\n\\item 200\n\\item 2000\n\\end{enumerate*}\n",
            "text/markdown": "1. 2\n2. 20\n3. 200\n4. 2000\n\n\n",
            "text/html": [
              "<style>\n",
              ".list-inline {list-style: none; margin:0; padding: 0}\n",
              ".list-inline>li {display: inline-block}\n",
              ".list-inline>li:not(:last-child)::after {content: \"\\00b7\"; padding: 0 .5ex}\n",
              "</style>\n",
              "<ol class=list-inline><li>2</li><li>20</li><li>200</li><li>2000</li></ol>\n"
            ]
          },
          "metadata": {
            "tags": []
          }
        },
        {
          "output_type": "display_data",
          "data": {
            "text/plain": [
              "[1]  8 15"
            ],
            "text/latex": "\\begin{enumerate*}\n\\item 8\n\\item 15\n\\end{enumerate*}\n",
            "text/markdown": "1. 8\n2. 15\n\n\n",
            "text/html": [
              "<style>\n",
              ".list-inline {list-style: none; margin:0; padding: 0}\n",
              ".list-inline>li {display: inline-block}\n",
              ".list-inline>li:not(:last-child)::after {content: \"\\00b7\"; padding: 0 .5ex}\n",
              "</style>\n",
              "<ol class=list-inline><li>8</li><li>15</li></ol>\n"
            ]
          },
          "metadata": {
            "tags": []
          }
        }
      ]
    },
    {
      "cell_type": "markdown",
      "metadata": {
        "id": "XOZa-7gDhJzD",
        "colab_type": "text"
      },
      "source": [
        "### **DataFrames**"
      ]
    },
    {
      "cell_type": "code",
      "metadata": {
        "id": "MM88Ok5mhJ9K",
        "colab_type": "code",
        "colab": {
          "base_uri": "https://localhost:8080/",
          "height": 327
        },
        "outputId": "35ab8f9b-016c-4ca4-93f6-214fa0dd4914"
      },
      "source": [
        "x <- 1:4; n <- 10; M <- c(10, 35); y <- 2:4\n",
        "data.frame(x, n)\n",
        "\n",
        "data.frame(x, M)\n",
        "\n"
      ],
      "execution_count": 10,
      "outputs": [
        {
          "output_type": "display_data",
          "data": {
            "text/plain": [
              "  x n \n",
              "1 1 10\n",
              "2 2 10\n",
              "3 3 10\n",
              "4 4 10"
            ],
            "text/latex": "A data.frame: 4 × 2\n\\begin{tabular}{ll}\n x & n\\\\\n <int> & <dbl>\\\\\n\\hline\n\t 1 & 10\\\\\n\t 2 & 10\\\\\n\t 3 & 10\\\\\n\t 4 & 10\\\\\n\\end{tabular}\n",
            "text/markdown": "\nA data.frame: 4 × 2\n\n| x &lt;int&gt; | n &lt;dbl&gt; |\n|---|---|\n| 1 | 10 |\n| 2 | 10 |\n| 3 | 10 |\n| 4 | 10 |\n\n",
            "text/html": [
              "<table>\n",
              "<caption>A data.frame: 4 × 2</caption>\n",
              "<thead>\n",
              "\t<tr><th scope=col>x</th><th scope=col>n</th></tr>\n",
              "\t<tr><th scope=col>&lt;int&gt;</th><th scope=col>&lt;dbl&gt;</th></tr>\n",
              "</thead>\n",
              "<tbody>\n",
              "\t<tr><td>1</td><td>10</td></tr>\n",
              "\t<tr><td>2</td><td>10</td></tr>\n",
              "\t<tr><td>3</td><td>10</td></tr>\n",
              "\t<tr><td>4</td><td>10</td></tr>\n",
              "</tbody>\n",
              "</table>\n"
            ]
          },
          "metadata": {
            "tags": []
          }
        },
        {
          "output_type": "display_data",
          "data": {
            "text/plain": [
              "  x M \n",
              "1 1 10\n",
              "2 2 35\n",
              "3 3 10\n",
              "4 4 35"
            ],
            "text/latex": "A data.frame: 4 × 2\n\\begin{tabular}{ll}\n x & M\\\\\n <int> & <dbl>\\\\\n\\hline\n\t 1 & 10\\\\\n\t 2 & 35\\\\\n\t 3 & 10\\\\\n\t 4 & 35\\\\\n\\end{tabular}\n",
            "text/markdown": "\nA data.frame: 4 × 2\n\n| x &lt;int&gt; | M &lt;dbl&gt; |\n|---|---|\n| 1 | 10 |\n| 2 | 35 |\n| 3 | 10 |\n| 4 | 35 |\n\n",
            "text/html": [
              "<table>\n",
              "<caption>A data.frame: 4 × 2</caption>\n",
              "<thead>\n",
              "\t<tr><th scope=col>x</th><th scope=col>M</th></tr>\n",
              "\t<tr><th scope=col>&lt;int&gt;</th><th scope=col>&lt;dbl&gt;</th></tr>\n",
              "</thead>\n",
              "<tbody>\n",
              "\t<tr><td>1</td><td>10</td></tr>\n",
              "\t<tr><td>2</td><td>35</td></tr>\n",
              "\t<tr><td>3</td><td>10</td></tr>\n",
              "\t<tr><td>4</td><td>35</td></tr>\n",
              "</tbody>\n",
              "</table>\n"
            ]
          },
          "metadata": {
            "tags": []
          }
        }
      ]
    },
    {
      "cell_type": "markdown",
      "metadata": {
        "id": "hD40pCdUh3oh",
        "colab_type": "text"
      },
      "source": [
        "### **Lists**"
      ]
    },
    {
      "cell_type": "code",
      "metadata": {
        "id": "dqgZ7euuhyKq",
        "colab_type": "code",
        "colab": {
          "base_uri": "https://localhost:8080/",
          "height": 188
        },
        "outputId": "e145869c-9379-4846-ee82-e7ba96650e55"
      },
      "source": [
        "Lista1 <- list(x, y); Lista2 <- list(A=x, B=y)\n",
        "Lista1\n",
        "Lista2\n",
        "names(Lista1)\n",
        "names(Lista2)"
      ],
      "execution_count": 13,
      "outputs": [
        {
          "output_type": "display_data",
          "data": {
            "text/plain": [
              "[[1]]\n",
              "[1] 1 2 3 4\n",
              "\n",
              "[[2]]\n",
              "[1] 2 3 4\n"
            ],
            "text/latex": "\\begin{enumerate}\n\\item \\begin{enumerate*}\n\\item 1\n\\item 2\n\\item 3\n\\item 4\n\\end{enumerate*}\n\n\\item \\begin{enumerate*}\n\\item 2\n\\item 3\n\\item 4\n\\end{enumerate*}\n\n\\end{enumerate}\n",
            "text/markdown": "1. 1. 1\n2. 2\n3. 3\n4. 4\n\n\n\n2. 1. 2\n2. 3\n3. 4\n\n\n\n\n\n",
            "text/html": [
              "<ol>\n",
              "\t<li><style>\n",
              ".list-inline {list-style: none; margin:0; padding: 0}\n",
              ".list-inline>li {display: inline-block}\n",
              ".list-inline>li:not(:last-child)::after {content: \"\\00b7\"; padding: 0 .5ex}\n",
              "</style>\n",
              "<ol class=list-inline><li>1</li><li>2</li><li>3</li><li>4</li></ol>\n",
              "</li>\n",
              "\t<li><style>\n",
              ".list-inline {list-style: none; margin:0; padding: 0}\n",
              ".list-inline>li {display: inline-block}\n",
              ".list-inline>li:not(:last-child)::after {content: \"\\00b7\"; padding: 0 .5ex}\n",
              "</style>\n",
              "<ol class=list-inline><li>2</li><li>3</li><li>4</li></ol>\n",
              "</li>\n",
              "</ol>\n"
            ]
          },
          "metadata": {
            "tags": []
          }
        },
        {
          "output_type": "display_data",
          "data": {
            "text/plain": [
              "$A\n",
              "[1] 1 2 3 4\n",
              "\n",
              "$B\n",
              "[1] 2 3 4\n"
            ],
            "text/latex": "\\begin{description}\n\\item[\\$A] \\begin{enumerate*}\n\\item 1\n\\item 2\n\\item 3\n\\item 4\n\\end{enumerate*}\n\n\\item[\\$B] \\begin{enumerate*}\n\\item 2\n\\item 3\n\\item 4\n\\end{enumerate*}\n\n\\end{description}\n",
            "text/markdown": "$A\n:   1. 1\n2. 2\n3. 3\n4. 4\n\n\n\n$B\n:   1. 2\n2. 3\n3. 4\n\n\n\n\n\n",
            "text/html": [
              "<dl>\n",
              "\t<dt>$A</dt>\n",
              "\t\t<dd><style>\n",
              ".list-inline {list-style: none; margin:0; padding: 0}\n",
              ".list-inline>li {display: inline-block}\n",
              ".list-inline>li:not(:last-child)::after {content: \"\\00b7\"; padding: 0 .5ex}\n",
              "</style>\n",
              "<ol class=list-inline><li>1</li><li>2</li><li>3</li><li>4</li></ol>\n",
              "</dd>\n",
              "\t<dt>$B</dt>\n",
              "\t\t<dd><style>\n",
              ".list-inline {list-style: none; margin:0; padding: 0}\n",
              ".list-inline>li {display: inline-block}\n",
              ".list-inline>li:not(:last-child)::after {content: \"\\00b7\"; padding: 0 .5ex}\n",
              "</style>\n",
              "<ol class=list-inline><li>2</li><li>3</li><li>4</li></ol>\n",
              "</dd>\n",
              "</dl>\n"
            ]
          },
          "metadata": {
            "tags": []
          }
        },
        {
          "output_type": "display_data",
          "data": {
            "text/plain": [
              "NULL"
            ]
          },
          "metadata": {
            "tags": []
          }
        },
        {
          "output_type": "display_data",
          "data": {
            "text/plain": [
              "[1] \"A\" \"B\""
            ],
            "text/latex": "\\begin{enumerate*}\n\\item 'A'\n\\item 'B'\n\\end{enumerate*}\n",
            "text/markdown": "1. 'A'\n2. 'B'\n\n\n",
            "text/html": [
              "<style>\n",
              ".list-inline {list-style: none; margin:0; padding: 0}\n",
              ".list-inline>li {display: inline-block}\n",
              ".list-inline>li:not(:last-child)::after {content: \"\\00b7\"; padding: 0 .5ex}\n",
              "</style>\n",
              "<ol class=list-inline><li>'A'</li><li>'B'</li></ol>\n"
            ]
          },
          "metadata": {
            "tags": []
          }
        }
      ]
    },
    {
      "cell_type": "markdown",
      "metadata": {
        "id": "KccZE6kCiP1L",
        "colab_type": "text"
      },
      "source": [
        "### **Arrays**"
      ]
    },
    {
      "cell_type": "code",
      "metadata": {
        "id": "4BYVAT9siQH3",
        "colab_type": "code",
        "colab": {
          "base_uri": "https://localhost:8080/",
          "height": 323
        },
        "outputId": "b2ca0b2e-131e-4778-8368-e65359d16851"
      },
      "source": [
        "# matrices\n",
        "1:100\n",
        "100:1\n",
        "seq(1,100, 4)\n",
        "?matrix\n",
        "mtx.1 <- matrix(data=1:100, nrow=10, ncol=11)\n",
        "mtx.1"
      ],
      "execution_count": 14,
      "outputs": [
        {
          "output_type": "display_data",
          "data": {
            "text/plain": [
              "  [1]   1   2   3   4   5   6   7   8   9  10  11  12  13  14  15  16  17  18\n",
              " [19]  19  20  21  22  23  24  25  26  27  28  29  30  31  32  33  34  35  36\n",
              " [37]  37  38  39  40  41  42  43  44  45  46  47  48  49  50  51  52  53  54\n",
              " [55]  55  56  57  58  59  60  61  62  63  64  65  66  67  68  69  70  71  72\n",
              " [73]  73  74  75  76  77  78  79  80  81  82  83  84  85  86  87  88  89  90\n",
              " [91]  91  92  93  94  95  96  97  98  99 100"
            ],
            "text/latex": "\\begin{enumerate*}\n\\item 1\n\\item 2\n\\item 3\n\\item 4\n\\item 5\n\\item 6\n\\item 7\n\\item 8\n\\item 9\n\\item 10\n\\item 11\n\\item 12\n\\item 13\n\\item 14\n\\item 15\n\\item 16\n\\item 17\n\\item 18\n\\item 19\n\\item 20\n\\item 21\n\\item 22\n\\item 23\n\\item 24\n\\item 25\n\\item 26\n\\item 27\n\\item 28\n\\item 29\n\\item 30\n\\item 31\n\\item 32\n\\item 33\n\\item 34\n\\item 35\n\\item 36\n\\item 37\n\\item 38\n\\item 39\n\\item 40\n\\item 41\n\\item 42\n\\item 43\n\\item 44\n\\item 45\n\\item 46\n\\item 47\n\\item 48\n\\item 49\n\\item 50\n\\item 51\n\\item 52\n\\item 53\n\\item 54\n\\item 55\n\\item 56\n\\item 57\n\\item 58\n\\item 59\n\\item 60\n\\item 61\n\\item 62\n\\item 63\n\\item 64\n\\item 65\n\\item 66\n\\item 67\n\\item 68\n\\item 69\n\\item 70\n\\item 71\n\\item 72\n\\item 73\n\\item 74\n\\item 75\n\\item 76\n\\item 77\n\\item 78\n\\item 79\n\\item 80\n\\item 81\n\\item 82\n\\item 83\n\\item 84\n\\item 85\n\\item 86\n\\item 87\n\\item 88\n\\item 89\n\\item 90\n\\item 91\n\\item 92\n\\item 93\n\\item 94\n\\item 95\n\\item 96\n\\item 97\n\\item 98\n\\item 99\n\\item 100\n\\end{enumerate*}\n",
            "text/markdown": "1. 1\n2. 2\n3. 3\n4. 4\n5. 5\n6. 6\n7. 7\n8. 8\n9. 9\n10. 10\n11. 11\n12. 12\n13. 13\n14. 14\n15. 15\n16. 16\n17. 17\n18. 18\n19. 19\n20. 20\n21. 21\n22. 22\n23. 23\n24. 24\n25. 25\n26. 26\n27. 27\n28. 28\n29. 29\n30. 30\n31. 31\n32. 32\n33. 33\n34. 34\n35. 35\n36. 36\n37. 37\n38. 38\n39. 39\n40. 40\n41. 41\n42. 42\n43. 43\n44. 44\n45. 45\n46. 46\n47. 47\n48. 48\n49. 49\n50. 50\n51. 51\n52. 52\n53. 53\n54. 54\n55. 55\n56. 56\n57. 57\n58. 58\n59. 59\n60. 60\n61. 61\n62. 62\n63. 63\n64. 64\n65. 65\n66. 66\n67. 67\n68. 68\n69. 69\n70. 70\n71. 71\n72. 72\n73. 73\n74. 74\n75. 75\n76. 76\n77. 77\n78. 78\n79. 79\n80. 80\n81. 81\n82. 82\n83. 83\n84. 84\n85. 85\n86. 86\n87. 87\n88. 88\n89. 89\n90. 90\n91. 91\n92. 92\n93. 93\n94. 94\n95. 95\n96. 96\n97. 97\n98. 98\n99. 99\n100. 100\n\n\n",
            "text/html": [
              "<style>\n",
              ".list-inline {list-style: none; margin:0; padding: 0}\n",
              ".list-inline>li {display: inline-block}\n",
              ".list-inline>li:not(:last-child)::after {content: \"\\00b7\"; padding: 0 .5ex}\n",
              "</style>\n",
              "<ol class=list-inline><li>1</li><li>2</li><li>3</li><li>4</li><li>5</li><li>6</li><li>7</li><li>8</li><li>9</li><li>10</li><li>11</li><li>12</li><li>13</li><li>14</li><li>15</li><li>16</li><li>17</li><li>18</li><li>19</li><li>20</li><li>21</li><li>22</li><li>23</li><li>24</li><li>25</li><li>26</li><li>27</li><li>28</li><li>29</li><li>30</li><li>31</li><li>32</li><li>33</li><li>34</li><li>35</li><li>36</li><li>37</li><li>38</li><li>39</li><li>40</li><li>41</li><li>42</li><li>43</li><li>44</li><li>45</li><li>46</li><li>47</li><li>48</li><li>49</li><li>50</li><li>51</li><li>52</li><li>53</li><li>54</li><li>55</li><li>56</li><li>57</li><li>58</li><li>59</li><li>60</li><li>61</li><li>62</li><li>63</li><li>64</li><li>65</li><li>66</li><li>67</li><li>68</li><li>69</li><li>70</li><li>71</li><li>72</li><li>73</li><li>74</li><li>75</li><li>76</li><li>77</li><li>78</li><li>79</li><li>80</li><li>81</li><li>82</li><li>83</li><li>84</li><li>85</li><li>86</li><li>87</li><li>88</li><li>89</li><li>90</li><li>91</li><li>92</li><li>93</li><li>94</li><li>95</li><li>96</li><li>97</li><li>98</li><li>99</li><li>100</li></ol>\n"
            ]
          },
          "metadata": {
            "tags": []
          }
        },
        {
          "output_type": "display_data",
          "data": {
            "text/plain": [
              "  [1] 100  99  98  97  96  95  94  93  92  91  90  89  88  87  86  85  84  83\n",
              " [19]  82  81  80  79  78  77  76  75  74  73  72  71  70  69  68  67  66  65\n",
              " [37]  64  63  62  61  60  59  58  57  56  55  54  53  52  51  50  49  48  47\n",
              " [55]  46  45  44  43  42  41  40  39  38  37  36  35  34  33  32  31  30  29\n",
              " [73]  28  27  26  25  24  23  22  21  20  19  18  17  16  15  14  13  12  11\n",
              " [91]  10   9   8   7   6   5   4   3   2   1"
            ],
            "text/latex": "\\begin{enumerate*}\n\\item 100\n\\item 99\n\\item 98\n\\item 97\n\\item 96\n\\item 95\n\\item 94\n\\item 93\n\\item 92\n\\item 91\n\\item 90\n\\item 89\n\\item 88\n\\item 87\n\\item 86\n\\item 85\n\\item 84\n\\item 83\n\\item 82\n\\item 81\n\\item 80\n\\item 79\n\\item 78\n\\item 77\n\\item 76\n\\item 75\n\\item 74\n\\item 73\n\\item 72\n\\item 71\n\\item 70\n\\item 69\n\\item 68\n\\item 67\n\\item 66\n\\item 65\n\\item 64\n\\item 63\n\\item 62\n\\item 61\n\\item 60\n\\item 59\n\\item 58\n\\item 57\n\\item 56\n\\item 55\n\\item 54\n\\item 53\n\\item 52\n\\item 51\n\\item 50\n\\item 49\n\\item 48\n\\item 47\n\\item 46\n\\item 45\n\\item 44\n\\item 43\n\\item 42\n\\item 41\n\\item 40\n\\item 39\n\\item 38\n\\item 37\n\\item 36\n\\item 35\n\\item 34\n\\item 33\n\\item 32\n\\item 31\n\\item 30\n\\item 29\n\\item 28\n\\item 27\n\\item 26\n\\item 25\n\\item 24\n\\item 23\n\\item 22\n\\item 21\n\\item 20\n\\item 19\n\\item 18\n\\item 17\n\\item 16\n\\item 15\n\\item 14\n\\item 13\n\\item 12\n\\item 11\n\\item 10\n\\item 9\n\\item 8\n\\item 7\n\\item 6\n\\item 5\n\\item 4\n\\item 3\n\\item 2\n\\item 1\n\\end{enumerate*}\n",
            "text/markdown": "1. 100\n2. 99\n3. 98\n4. 97\n5. 96\n6. 95\n7. 94\n8. 93\n9. 92\n10. 91\n11. 90\n12. 89\n13. 88\n14. 87\n15. 86\n16. 85\n17. 84\n18. 83\n19. 82\n20. 81\n21. 80\n22. 79\n23. 78\n24. 77\n25. 76\n26. 75\n27. 74\n28. 73\n29. 72\n30. 71\n31. 70\n32. 69\n33. 68\n34. 67\n35. 66\n36. 65\n37. 64\n38. 63\n39. 62\n40. 61\n41. 60\n42. 59\n43. 58\n44. 57\n45. 56\n46. 55\n47. 54\n48. 53\n49. 52\n50. 51\n51. 50\n52. 49\n53. 48\n54. 47\n55. 46\n56. 45\n57. 44\n58. 43\n59. 42\n60. 41\n61. 40\n62. 39\n63. 38\n64. 37\n65. 36\n66. 35\n67. 34\n68. 33\n69. 32\n70. 31\n71. 30\n72. 29\n73. 28\n74. 27\n75. 26\n76. 25\n77. 24\n78. 23\n79. 22\n80. 21\n81. 20\n82. 19\n83. 18\n84. 17\n85. 16\n86. 15\n87. 14\n88. 13\n89. 12\n90. 11\n91. 10\n92. 9\n93. 8\n94. 7\n95. 6\n96. 5\n97. 4\n98. 3\n99. 2\n100. 1\n\n\n",
            "text/html": [
              "<style>\n",
              ".list-inline {list-style: none; margin:0; padding: 0}\n",
              ".list-inline>li {display: inline-block}\n",
              ".list-inline>li:not(:last-child)::after {content: \"\\00b7\"; padding: 0 .5ex}\n",
              "</style>\n",
              "<ol class=list-inline><li>100</li><li>99</li><li>98</li><li>97</li><li>96</li><li>95</li><li>94</li><li>93</li><li>92</li><li>91</li><li>90</li><li>89</li><li>88</li><li>87</li><li>86</li><li>85</li><li>84</li><li>83</li><li>82</li><li>81</li><li>80</li><li>79</li><li>78</li><li>77</li><li>76</li><li>75</li><li>74</li><li>73</li><li>72</li><li>71</li><li>70</li><li>69</li><li>68</li><li>67</li><li>66</li><li>65</li><li>64</li><li>63</li><li>62</li><li>61</li><li>60</li><li>59</li><li>58</li><li>57</li><li>56</li><li>55</li><li>54</li><li>53</li><li>52</li><li>51</li><li>50</li><li>49</li><li>48</li><li>47</li><li>46</li><li>45</li><li>44</li><li>43</li><li>42</li><li>41</li><li>40</li><li>39</li><li>38</li><li>37</li><li>36</li><li>35</li><li>34</li><li>33</li><li>32</li><li>31</li><li>30</li><li>29</li><li>28</li><li>27</li><li>26</li><li>25</li><li>24</li><li>23</li><li>22</li><li>21</li><li>20</li><li>19</li><li>18</li><li>17</li><li>16</li><li>15</li><li>14</li><li>13</li><li>12</li><li>11</li><li>10</li><li>9</li><li>8</li><li>7</li><li>6</li><li>5</li><li>4</li><li>3</li><li>2</li><li>1</li></ol>\n"
            ]
          },
          "metadata": {
            "tags": []
          }
        },
        {
          "output_type": "display_data",
          "data": {
            "text/plain": [
              " [1]  1  5  9 13 17 21 25 29 33 37 41 45 49 53 57 61 65 69 73 77 81 85 89 93 97"
            ],
            "text/latex": "\\begin{enumerate*}\n\\item 1\n\\item 5\n\\item 9\n\\item 13\n\\item 17\n\\item 21\n\\item 25\n\\item 29\n\\item 33\n\\item 37\n\\item 41\n\\item 45\n\\item 49\n\\item 53\n\\item 57\n\\item 61\n\\item 65\n\\item 69\n\\item 73\n\\item 77\n\\item 81\n\\item 85\n\\item 89\n\\item 93\n\\item 97\n\\end{enumerate*}\n",
            "text/markdown": "1. 1\n2. 5\n3. 9\n4. 13\n5. 17\n6. 21\n7. 25\n8. 29\n9. 33\n10. 37\n11. 41\n12. 45\n13. 49\n14. 53\n15. 57\n16. 61\n17. 65\n18. 69\n19. 73\n20. 77\n21. 81\n22. 85\n23. 89\n24. 93\n25. 97\n\n\n",
            "text/html": [
              "<style>\n",
              ".list-inline {list-style: none; margin:0; padding: 0}\n",
              ".list-inline>li {display: inline-block}\n",
              ".list-inline>li:not(:last-child)::after {content: \"\\00b7\"; padding: 0 .5ex}\n",
              "</style>\n",
              "<ol class=list-inline><li>1</li><li>5</li><li>9</li><li>13</li><li>17</li><li>21</li><li>25</li><li>29</li><li>33</li><li>37</li><li>41</li><li>45</li><li>49</li><li>53</li><li>57</li><li>61</li><li>65</li><li>69</li><li>73</li><li>77</li><li>81</li><li>85</li><li>89</li><li>93</li><li>97</li></ol>\n"
            ]
          },
          "metadata": {
            "tags": []
          }
        },
        {
          "output_type": "stream",
          "text": [
            "Warning message in matrix(data = 1:100, nrow = 10, ncol = 11):\n",
            "“data length [100] is not a sub-multiple or multiple of the number of columns [11]”\n"
          ],
          "name": "stderr"
        },
        {
          "output_type": "display_data",
          "data": {
            "text/plain": [
              "      [,1] [,2] [,3] [,4] [,5] [,6] [,7] [,8] [,9] [,10] [,11]\n",
              " [1,]  1   11   21   31   41   51   61   71   81    91    1   \n",
              " [2,]  2   12   22   32   42   52   62   72   82    92    2   \n",
              " [3,]  3   13   23   33   43   53   63   73   83    93    3   \n",
              " [4,]  4   14   24   34   44   54   64   74   84    94    4   \n",
              " [5,]  5   15   25   35   45   55   65   75   85    95    5   \n",
              " [6,]  6   16   26   36   46   56   66   76   86    96    6   \n",
              " [7,]  7   17   27   37   47   57   67   77   87    97    7   \n",
              " [8,]  8   18   28   38   48   58   68   78   88    98    8   \n",
              " [9,]  9   19   29   39   49   59   69   79   89    99    9   \n",
              "[10,] 10   20   30   40   50   60   70   80   90   100   10   "
            ],
            "text/latex": "A matrix: 10 × 11 of type int\n\\begin{tabular}{lllllllllll}\n\t  1 & 11 & 21 & 31 & 41 & 51 & 61 & 71 & 81 &  91 &  1\\\\\n\t  2 & 12 & 22 & 32 & 42 & 52 & 62 & 72 & 82 &  92 &  2\\\\\n\t  3 & 13 & 23 & 33 & 43 & 53 & 63 & 73 & 83 &  93 &  3\\\\\n\t  4 & 14 & 24 & 34 & 44 & 54 & 64 & 74 & 84 &  94 &  4\\\\\n\t  5 & 15 & 25 & 35 & 45 & 55 & 65 & 75 & 85 &  95 &  5\\\\\n\t  6 & 16 & 26 & 36 & 46 & 56 & 66 & 76 & 86 &  96 &  6\\\\\n\t  7 & 17 & 27 & 37 & 47 & 57 & 67 & 77 & 87 &  97 &  7\\\\\n\t  8 & 18 & 28 & 38 & 48 & 58 & 68 & 78 & 88 &  98 &  8\\\\\n\t  9 & 19 & 29 & 39 & 49 & 59 & 69 & 79 & 89 &  99 &  9\\\\\n\t 10 & 20 & 30 & 40 & 50 & 60 & 70 & 80 & 90 & 100 & 10\\\\\n\\end{tabular}\n",
            "text/markdown": "\nA matrix: 10 × 11 of type int\n\n|  1 | 11 | 21 | 31 | 41 | 51 | 61 | 71 | 81 |  91 |  1 |\n|  2 | 12 | 22 | 32 | 42 | 52 | 62 | 72 | 82 |  92 |  2 |\n|  3 | 13 | 23 | 33 | 43 | 53 | 63 | 73 | 83 |  93 |  3 |\n|  4 | 14 | 24 | 34 | 44 | 54 | 64 | 74 | 84 |  94 |  4 |\n|  5 | 15 | 25 | 35 | 45 | 55 | 65 | 75 | 85 |  95 |  5 |\n|  6 | 16 | 26 | 36 | 46 | 56 | 66 | 76 | 86 |  96 |  6 |\n|  7 | 17 | 27 | 37 | 47 | 57 | 67 | 77 | 87 |  97 |  7 |\n|  8 | 18 | 28 | 38 | 48 | 58 | 68 | 78 | 88 |  98 |  8 |\n|  9 | 19 | 29 | 39 | 49 | 59 | 69 | 79 | 89 |  99 |  9 |\n| 10 | 20 | 30 | 40 | 50 | 60 | 70 | 80 | 90 | 100 | 10 |\n\n",
            "text/html": [
              "<table>\n",
              "<caption>A matrix: 10 × 11 of type int</caption>\n",
              "<tbody>\n",
              "\t<tr><td> 1</td><td>11</td><td>21</td><td>31</td><td>41</td><td>51</td><td>61</td><td>71</td><td>81</td><td> 91</td><td> 1</td></tr>\n",
              "\t<tr><td> 2</td><td>12</td><td>22</td><td>32</td><td>42</td><td>52</td><td>62</td><td>72</td><td>82</td><td> 92</td><td> 2</td></tr>\n",
              "\t<tr><td> 3</td><td>13</td><td>23</td><td>33</td><td>43</td><td>53</td><td>63</td><td>73</td><td>83</td><td> 93</td><td> 3</td></tr>\n",
              "\t<tr><td> 4</td><td>14</td><td>24</td><td>34</td><td>44</td><td>54</td><td>64</td><td>74</td><td>84</td><td> 94</td><td> 4</td></tr>\n",
              "\t<tr><td> 5</td><td>15</td><td>25</td><td>35</td><td>45</td><td>55</td><td>65</td><td>75</td><td>85</td><td> 95</td><td> 5</td></tr>\n",
              "\t<tr><td> 6</td><td>16</td><td>26</td><td>36</td><td>46</td><td>56</td><td>66</td><td>76</td><td>86</td><td> 96</td><td> 6</td></tr>\n",
              "\t<tr><td> 7</td><td>17</td><td>27</td><td>37</td><td>47</td><td>57</td><td>67</td><td>77</td><td>87</td><td> 97</td><td> 7</td></tr>\n",
              "\t<tr><td> 8</td><td>18</td><td>28</td><td>38</td><td>48</td><td>58</td><td>68</td><td>78</td><td>88</td><td> 98</td><td> 8</td></tr>\n",
              "\t<tr><td> 9</td><td>19</td><td>29</td><td>39</td><td>49</td><td>59</td><td>69</td><td>79</td><td>89</td><td> 99</td><td> 9</td></tr>\n",
              "\t<tr><td>10</td><td>20</td><td>30</td><td>40</td><td>50</td><td>60</td><td>70</td><td>80</td><td>90</td><td>100</td><td>10</td></tr>\n",
              "</tbody>\n",
              "</table>\n"
            ]
          },
          "metadata": {
            "tags": []
          }
        }
      ]
    }
  ]
}